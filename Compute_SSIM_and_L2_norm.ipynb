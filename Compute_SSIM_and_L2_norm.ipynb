{
  "cells": [
    {
      "cell_type": "code",
      "execution_count": null,
      "metadata": {
        "id": "69kKS51J9tsa"
      },
      "outputs": [],
      "source": [
        "from skimage.metrics import structural_similarity\n",
        "import numpy as np\n",
        "import natsort\n",
        "import os\n",
        "import cv2"
      ]
    },
    {
      "cell_type": "code",
      "execution_count": null,
      "metadata": {
        "colab": {
          "base_uri": "https://localhost:8080/"
        },
        "id": "1jWNegaIDcxc",
        "outputId": "40f2d4b6-fbf3-4649-fd67-4f45729fd935"
      },
      "outputs": [
        {
          "name": "stdout",
          "output_type": "stream",
          "text": [
            "Mounted at /content/drive\n"
          ]
        }
      ],
      "source": [
        "from google.colab import drive\n",
        "drive.mount('/content/drive')"
      ]
    },
    {
      "cell_type": "code",
      "execution_count": null,
      "metadata": {
        "id": "1IVrFAfg9tsb"
      },
      "outputs": [],
      "source": [
        "def load_filename(path):\n",
        "    dirFiles = os.listdir(path)\n",
        "    for i, file in enumerate(dirFiles):\n",
        "        dirFiles[i] = path + file\n",
        "    return natsort.natsorted(dirFiles ,reverse=False)\n",
        "\n",
        "def load_images(list_path):\n",
        "    img_list = list()\n",
        "    for filename in list_path:\n",
        "        pixels = cv2.imread(filename)\n",
        "        img_list.append(pixels)\n",
        "    return np.asarray(img_list)"
      ]
    },
    {
      "cell_type": "code",
      "execution_count": null,
      "metadata": {
        "id": "I-1ikC0R9tsb"
      },
      "outputs": [],
      "source": [
        "def compute_l2(imgs1, imgs2):\n",
        "    l2_scores = []\n",
        "    for i in range(len(imgs1)):\n",
        "        score = (np.square(imgs1[i] - imgs2[i])).mean()\n",
        "        l2_scores.append(score)\n",
        "    return np.mean(l2_scores)\n",
        "\n",
        "def compute_ssim(imgs1, imgs2):\n",
        "    ssim_scores = []\n",
        "    for i in range(len(imgs1)):\n",
        "        grayA = cv2.cvtColor(imgs1[i], cv2.COLOR_BGR2GRAY)\n",
        "        grayB = cv2.cvtColor(imgs2[i], cv2.COLOR_BGR2GRAY)\n",
        "        (score, diff) = structural_similarity(grayA, grayB, full=True)\n",
        "        ssim_scores.append(score)\n",
        "    return np.mean(score)"
      ]
    },
    {
      "attachments": {},
      "cell_type": "markdown",
      "metadata": {
        "id": "X0sW3AiJ9tsc"
      },
      "source": [
        "## Compute L2-norm and SSIM"
      ]
    },
    {
      "cell_type": "code",
      "execution_count": null,
      "metadata": {
        "colab": {
          "base_uri": "https://localhost:8080/"
        },
        "id": "rkNn1ob39tsd",
        "outputId": "c1023f87-bce2-4a66-ff01-6a1d67bd7be5"
      },
      "outputs": [
        {
          "name": "stdout",
          "output_type": "stream",
          "text": [
            "Pixel loss weight : 1 - Contextual loss weight : 0 => L2-norm: 93.62968573333333 :: SSIM: 0.76595402890904\n"
          ]
        }
      ],
      "source": [
        "#after 100 epochs\n",
        "imgs1 = load_images(load_filename(\"/content/drive/MyDrive/Project/Dataset/CUHK/Testing photo/\"))\n",
        "imgs2 = load_images(load_filename(\"/content/drive/MyDrive/Project/Generated Images/Generated_Pixel[02]_Context[08]/\"))\n",
        "\n",
        "l2 = compute_l2(imgs1, imgs2)\n",
        "ssim = compute_ssim(imgs1, imgs2)\n",
        "\n",
        "print(\"Pixel loss weight : 1 - Contextual loss weight : 0 => L2-norm: \" + str(l2) + \" :: SSIM: \" + str(ssim))"
      ]
    },
    {
      "cell_type": "code",
      "execution_count": null,
      "metadata": {
        "id": "bUZl0H1Z9tse"
      },
      "outputs": [],
      "source": [
        "#after 385 epochs\n",
        "imgs1 = load_images(load_filename(\"/content/drive/MyDrive/Project/Dataset/CUHK/Testing photo/\"))\n",
        "imgs2 = load_images(load_filename(\"/content/drive/MyDrive/Project/Generated Images/Generated_Pixel[04]_Context[08]/\"))\n",
        "\n",
        "l2 = compute_l2(imgs1, imgs2)\n",
        "ssim = compute_ssim(imgs1, imgs2)\n",
        "\n",
        "print(\"Pixel loss weight : 1 - Contextual loss weight : 0 => L2-norm: \" + str(l2) + \" :: SSIM: \" + str(ssim))"
      ]
    }
  ],
  "metadata": {
    "accelerator": "GPU",
    "colab": {
      "gpuType": "T4",
      "provenance": []
    },
    "kernelspec": {
      "display_name": "Python 3",
      "name": "python3"
    },
    "language_info": {
      "codemirror_mode": {
        "name": "ipython",
        "version": 3
      },
      "file_extension": ".py",
      "mimetype": "text/x-python",
      "name": "python",
      "nbconvert_exporter": "python",
      "pygments_lexer": "ipython3",
      "version": "3.9.6"
    }
  },
  "nbformat": 4,
  "nbformat_minor": 0
}
