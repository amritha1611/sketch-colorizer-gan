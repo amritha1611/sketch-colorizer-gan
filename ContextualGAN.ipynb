{
  "cells": [
    {
      "cell_type": "code",
      "execution_count": null,
      "metadata": {
        "colab": {
          "base_uri": "https://localhost:8080/"
        },
        "id": "YLYZ4C6EsZ0O",
        "outputId": "5d190a4e-7f6b-445d-e964-561480d7d093"
      },
      "outputs": [
        {
          "output_type": "stream",
          "name": "stdout",
          "text": [
            "Looking in indexes: https://pypi.org/simple, https://us-python.pkg.dev/colab-wheels/public/simple/\n",
            "Collecting git+https://www.github.com/keras-team/keras-contrib.git\n",
            "  Cloning https://www.github.com/keras-team/keras-contrib.git to /tmp/pip-req-build-m2i9uwbc\n",
            "  Running command git clone --filter=blob:none --quiet https://www.github.com/keras-team/keras-contrib.git /tmp/pip-req-build-m2i9uwbc\n",
            "  warning: redirecting to https://github.com/keras-team/keras-contrib.git/\n",
            "  Resolved https://www.github.com/keras-team/keras-contrib.git to commit 3fc5ef709e061416f4bc8a92ca3750c824b5d2b0\n",
            "  Preparing metadata (setup.py) ... \u001b[?25l\u001b[?25hdone\n",
            "Requirement already satisfied: keras in /usr/local/lib/python3.10/dist-packages (from keras-contrib==2.0.8) (2.12.0)\n"
          ]
        }
      ],
      "source": [
        "!pip install git+https://www.github.com/keras-team/keras-contrib.git"
      ]
    },
    {
      "cell_type": "code",
      "execution_count": null,
      "metadata": {
        "id": "ztjlNyAZrrm4"
      },
      "outputs": [],
      "source": [
        "from __future__ import print_function, division\n",
        "from keras_contrib.layers.normalization.instancenormalization import InstanceNormalization\n",
        "from keras.layers import Input, Dense, Reshape, Flatten, Dropout,Concatenate, BatchNormalization, Activation, ZeroPadding2D\n",
        "from keras.layers import Activation\n",
        "from keras.layers.convolutional import UpSampling2D, Conv2D\n",
        "from keras.models import Sequential, Model\n",
        "from keras.optimizers import Adam\n",
        "\n",
        "from tensorflow.keras.preprocessing.image import img_to_array\n",
        "from tensorflow.keras.preprocessing.image import load_img\n",
        "from tensorflow.keras.layers import Input, Dense, Reshape, Flatten, Dropout, Concatenate, BatchNormalization, Activation,ZeroPadding2D, LeakyReLU\n",
        "\n",
        "from sklearn.utils import shuffle\n",
        "import matplotlib.pyplot as plt\n",
        "import numpy as np\n",
        "import datetime\n",
        "import natsort\n",
        "import scipy\n",
        "import sys\n",
        "import os\n",
        "import cv2"
      ]
    },
    {
      "cell_type": "code",
      "execution_count": null,
      "metadata": {
        "colab": {
          "base_uri": "https://localhost:8080/"
        },
        "id": "Z8UdmwpTsdtT",
        "outputId": "01035e2a-38ba-433e-eee5-c6b744d759b5"
      },
      "outputs": [
        {
          "output_type": "stream",
          "name": "stdout",
          "text": [
            "Drive already mounted at /content/drive; to attempt to forcibly remount, call drive.mount(\"/content/drive\", force_remount=True).\n"
          ]
        }
      ],
      "source": [
        "from google.colab import drive\n",
        "drive.mount('/content/drive')"
      ]
    },
    {
      "cell_type": "markdown",
      "metadata": {
        "id": "RoH27pjKrrnH"
      },
      "source": [
        "## Helper Function"
      ]
    },
    {
      "cell_type": "code",
      "execution_count": null,
      "metadata": {
        "id": "7n543EJ7rrnj"
      },
      "outputs": [],
      "source": [
        "def load_filename(path):\n",
        "    dirFiles = os.listdir(path)\n",
        "    for i, file in enumerate(dirFiles):\n",
        "        dirFiles[i] = path + file\n",
        "    return natsort.natsorted(dirFiles ,reverse=False)\n",
        "\n",
        "# load all images in a directory into memory\n",
        "def load_images(list_path, size=(256, 256)):\n",
        "    img_list = list()\n",
        "    # enumerate filenames in directory, assume all are images\n",
        "    for filename in list_path:\n",
        "        # load and resize the image\n",
        "        pixels = load_img(filename, target_size=size)\n",
        "        # convert to numpy array\n",
        "        pixels = img_to_array(pixels)\n",
        "        pixels = (pixels - 127.5) / 127.5\n",
        "        img_list.append(pixels)\n",
        "    return np.asarray(img_list)"
      ]
    },
    {
      "cell_type": "code",
      "execution_count": null,
      "metadata": {
        "id": "LrBRH7UDrrnk"
      },
      "outputs": [],
      "source": [
        "# select a batch of random samples, returns images and target\n",
        "def generate_real_samples(dataset, n_samples, patch_shape):\n",
        "    # unpack dataset\n",
        "    trainA, trainB = dataset\n",
        "\n",
        "    # choose random instances\n",
        "    ix = np.random.randint(0, trainA.shape[0], n_samples)\n",
        "\n",
        "    # retrieve selected images\n",
        "    X1, X2 = trainA[ix], trainB[ix]\n",
        "\n",
        "    # generate 'real' class labels (1)\n",
        "    y = np.ones((n_samples, patch_shape, patch_shape, 1))\n",
        "\n",
        "    return [X1, X2], y\n",
        "\n",
        "# generate a batch of images, returns images and targets\n",
        "def generate_fake_samples(g_model, samples, patch_shape):\n",
        "    # generate fake instance\n",
        "    X = g_model.predict(samples)\n",
        "\n",
        "    # create 'fake' class labels (0)\n",
        "    y = np.zeros((len(X), patch_shape, patch_shape, 1))\n",
        "\n",
        "    return X, y"
      ]
    },
    {
      "cell_type": "code",
      "execution_count": null,
      "metadata": {
        "id": "EYdw_mlVrrnk"
      },
      "outputs": [],
      "source": [
        "# generate samples and save as a plot and save the model\n",
        "def summarize_performance(step, g_model, d_model, dataset, target_dir='', n_samples=3):\n",
        "    if target_dir and not os.path.exists(target_dir):\n",
        "        os.mkdir(target_dir)\n",
        "    # select a sample of input images\n",
        "    [X_realA, X_realB], _ = generate_real_samples(dataset, n_samples, 1)\n",
        "    # generate a batch of fake samples\n",
        "    X_fakeB, _ = generate_fake_samples(g_model, X_realA, 1)\n",
        "    # scale all pixels from [-1,1] to [0,1]\n",
        "    X_realA = (X_realA + 1) / 2.0\n",
        "    X_realB = (X_realB + 1) / 2.0\n",
        "    X_fakeB = (X_fakeB + 1) / 2.0\n",
        "    # plot real source images\n",
        "    for i in range(n_samples):\n",
        "        plt.subplot(3, n_samples, 1 + i)\n",
        "        plt.axis('off')\n",
        "        plt.imshow(X_realA[i])\n",
        "    # plot generated target image\n",
        "    for i in range(n_samples):\n",
        "        plt.subplot(3, n_samples, 1 + n_samples + i)\n",
        "        plt.axis('off')\n",
        "        plt.imshow(X_fakeB[i])\n",
        "    # plot real target image\n",
        "    for i in range(n_samples):\n",
        "        plt.subplot(3, n_samples, 1 + n_samples*2 + i)\n",
        "        plt.axis('off')\n",
        "        plt.imshow(X_realB[i])\n",
        "    # save plot to file\n",
        "    filename1 = 'plot_%06d.png' % (step+1)\n",
        "    plt.savefig(target_dir + filename1)\n",
        "    plt.close()\n",
        "    # save the generator model\n",
        "    g_model.save(target_dir + 'g_model.h5')\n",
        "\n",
        "    # save the discriminator model\n",
        "    d_model.save(target_dir + 'd_model.h5')\n",
        "\n",
        "    print('>Saved: %s and %s' % (filename1, 'g_model & d_model'))"
      ]
    },
    {
      "cell_type": "markdown",
      "metadata": {
        "id": "vVuWaGgWrrnr"
      },
      "source": [
        "## Generator"
      ]
    },
    {
      "cell_type": "code",
      "execution_count": null,
      "metadata": {
        "id": "9dwn8Fjurrnt"
      },
      "outputs": [],
      "source": [
        "def generator(img_shape):\n",
        "    def conv2d(layer_in, n_filter, norm=True):\n",
        "        d = Conv2D(n_filter, kernel_size=4, strides=2, padding='same')(layer_in)\n",
        "        d = LeakyReLU(0.2)(d)\n",
        "        if norm:\n",
        "            d = InstanceNormalization()(d)\n",
        "        return d\n",
        "\n",
        "    def deconv2d(layer_in, skip_in, n_filter, dropout=0.5):\n",
        "        d = UpSampling2D(size=2)(layer_in)\n",
        "        d = Conv2D(n_filter, kernel_size=4, strides=1, padding='same', activation='relu')(d)\n",
        "        if dropout:\n",
        "            d = Dropout(dropout)(d)\n",
        "        d = InstanceNormalization()(d)\n",
        "        d = Concatenate()([d, skip_in])\n",
        "        return d\n",
        "\n",
        "    # Input Layer\n",
        "    in_img = Input(shape=img_shape)\n",
        "\n",
        "    # Downsampling\n",
        "    d1 = conv2d(in_img, 64, norm=False)\n",
        "    d2 = conv2d(d1, 128)\n",
        "    d3 = conv2d(d2, 256)\n",
        "    d4 = conv2d(d3, 512)\n",
        "    d5 = conv2d(d4, 512)\n",
        "    d6 = conv2d(d5, 512)\n",
        "    d7 = conv2d(d6, 512)\n",
        "\n",
        "    # Upsampling\n",
        "    u1 = deconv2d(d7, d6, 512)\n",
        "    u2 = deconv2d(u1, d5, 512)\n",
        "    u3 = deconv2d(u2, d4, 512)\n",
        "    u4 = deconv2d(u3, d3, 256, dropout=0)\n",
        "    u5 = deconv2d(u4, d2, 128, dropout=0)\n",
        "    u6 = deconv2d(u5, d1, 64, dropout=0)\n",
        "    u7 = UpSampling2D(size=2)(u6)\n",
        "\n",
        "    out_img = Conv2D(3, kernel_size=4, strides=1, padding='same', activation='tanh')(u7)\n",
        "\n",
        "    return Model(in_img, out_img, name='generator')"
      ]
    },
    {
      "cell_type": "markdown",
      "metadata": {
        "id": "PpXnn4shrrnu"
      },
      "source": [
        "## Discriminator"
      ]
    },
    {
      "cell_type": "code",
      "execution_count": null,
      "metadata": {
        "id": "myG7-50arrnv"
      },
      "outputs": [],
      "source": [
        "def discriminator(img_shape):\n",
        "    def d_layer(layer_in, n_filter, norm=True):\n",
        "        d = Conv2D(n_filter, kernel_size=4, strides=2, padding='same')(layer_in)\n",
        "        d = LeakyReLU(0.2)(d)\n",
        "        if norm:\n",
        "            d = InstanceNormalization()(d)\n",
        "        return d\n",
        "\n",
        "    in_src_img = Input(shape=img_shape)\n",
        "    in_target_img = Input(shape=img_shape)\n",
        "\n",
        "    merged = Concatenate()([in_src_img, in_target_img])\n",
        "\n",
        "    d1 = d_layer(merged, 64, norm=False)\n",
        "    d2 = d_layer(d1, 128)\n",
        "    d3 = d_layer(d1, 256)\n",
        "    d4 = d_layer(d1, 512)\n",
        "\n",
        "    out = Conv2D(1, kernel_size=4, strides=1, padding='same')(d4)\n",
        "\n",
        "    return Model([in_src_img, in_target_img], out, name='discriminator')"
      ]
    },
    {
      "cell_type": "markdown",
      "metadata": {
        "id": "_c3ob8Qvrrnw"
      },
      "source": [
        "## GAN"
      ]
    },
    {
      "cell_type": "code",
      "execution_count": null,
      "metadata": {
        "id": "eo18qgVNrrnz"
      },
      "outputs": [],
      "source": [
        "def GAN(g_model, d_model, img_shape):\n",
        "    d_model.trainable = False\n",
        "    in_img = Input(shape=img_shape)\n",
        "    gen_out = g_model(in_img)\n",
        "    dis_out = d_model([in_img, gen_out])\n",
        "    model = Model(in_img, [dis_out, gen_out], name='GAN')\n",
        "    return model"
      ]
    },
    {
      "cell_type": "markdown",
      "metadata": {
        "id": "3jzxjUVnrrn0"
      },
      "source": [
        "## Train GAN model"
      ]
    },
    {
      "cell_type": "code",
      "execution_count": null,
      "metadata": {
        "id": "jrQecYRWxv4j"
      },
      "outputs": [],
      "source": [
        "# Define empty lists to store loss values\n",
        "generator_losses = []\n",
        "discriminator_losses = []"
      ]
    },
    {
      "cell_type": "code",
      "execution_count": null,
      "metadata": {
        "id": "i9Rv9lYArrn0"
      },
      "outputs": [],
      "source": [
        "def train(d_model, g_model, gan_model, data, target_dir, n_epochs=100, n_batch=16):\n",
        "    # determine the output square shape of the discriminator\n",
        "    n_patch = d_model.output_shape[1]\n",
        "\n",
        "    blue_photo = data[0]\n",
        "    blue_sketch = data[1]\n",
        "\n",
        "    for i in range(n_epochs):\n",
        "        print(' ========== Epoch', i+1, '========== ')\n",
        "\n",
        "        blue_photo, blue_sketch = shuffle(blue_photo, blue_sketch)\n",
        "\n",
        "        for j in range(int(len(blue_photo)/n_batch)):\n",
        "            start = int(j*n_batch)\n",
        "            end = int(min(len(blue_photo), (j*n_batch)+n_batch))\n",
        "\n",
        "            dataset = [load_images(blue_photo[start:end]), load_images(blue_sketch[start:end])]\n",
        "\n",
        "            # select a batch of real samples\n",
        "            [X_realA, X_realB], y_real = generate_real_samples(dataset, n_batch, n_patch)\n",
        "\n",
        "            # generate a batch of fake samples\n",
        "            X_fakeB, y_fake = generate_fake_samples(g_model, X_realA, n_patch)\n",
        "\n",
        "            # update discriminator for real samples\n",
        "            d_loss1 = d_model.train_on_batch([X_realA, X_realB], y_real)\n",
        "\n",
        "            # update discriminator for generated samples\n",
        "            d_loss2 = d_model.train_on_batch([X_realA, X_fakeB], y_fake)\n",
        "\n",
        "            d_loss = 0.5 * np.add(d_loss1, d_loss2)\n",
        "\n",
        "            # update the generator\n",
        "            g_loss, _, _ = gan_model.train_on_batch(X_realA, [y_real, X_realB])\n",
        "\n",
        "            # Append the loss values to the respective lists\n",
        "            generator_losses.append(g_loss)\n",
        "            discriminator_losses.append(d_loss)\n",
        "\n",
        "            # summarize performance\n",
        "            print('Batch : %d, D Loss : %.3f | G Loss : %.3f' % (j+1, d_loss, g_loss))\n",
        "\n",
        "        # summarize model performance\n",
        "        summarize_performance(i, g_model, d_model, dataset, target_dir)\n",
        "\n",
        "        if i+1 == n_epochs:\n",
        "            break\n"
      ]
    },
    {
      "cell_type": "markdown",
      "metadata": {
        "id": "sgRDu4oFrro6"
      },
      "source": [
        "## Loss Function"
      ]
    },
    {
      "cell_type": "code",
      "execution_count": null,
      "metadata": {
        "id": "_wppge9Drrpo"
      },
      "outputs": [],
      "source": [
        "import tensorflow as tf\n",
        "import keras.backend as K\n",
        "from keras.losses import mean_absolute_error\n",
        "\n",
        "def pixel_loss(y_true, y_pred):\n",
        "    return K.mean(K.abs(y_true - y_pred))\n",
        "\n",
        "def contextual_loss (y_true, y_pred):\n",
        "    a = tf.image.rgb_to_grayscale(tf.slice(\n",
        "                                y_pred,\n",
        "                                [0,0,0,0],\n",
        "                                [16, 256, 256, 3]))\n",
        "\n",
        "    b = tf.image.rgb_to_grayscale(tf.slice(\n",
        "                                y_true,\n",
        "                                [0,0,0,0],\n",
        "                                [16, 256, 256, 3]))\n",
        "\n",
        "    y_pred = tf.divide(tf.add(tf.reshape(a, [tf.shape(a)[0], -1]), 1), 2)\n",
        "    y_true = tf.divide(tf.add(tf.reshape(b, [tf.shape(b)[0], -1]), 1), 2)\n",
        "\n",
        "#     tf.assert_rank(y_true,2)\n",
        "#     tf.assert_rank(y_pred,2)\n",
        "\n",
        "    p_shape = tf.shape(y_true)\n",
        "    q_shape = tf.shape(y_pred)\n",
        "#     tf.assert_equal(p_shape, q_shape)\n",
        "\n",
        "    # normalize sum to 1\n",
        "    p_ = tf.divide(y_true, tf.tile(tf.expand_dims(tf.reduce_sum(y_true, axis=1), 1), [1,p_shape[1]]))\n",
        "    q_ = tf.divide(y_pred, tf.tile(tf.expand_dims(tf.reduce_sum(y_pred, axis=1), 1), [1,p_shape[1]]))\n",
        "\n",
        "    return tf.reduce_sum(tf.multiply(p_, tf.math.log(tf.divide(p_, q_))), axis=1)\n",
        "\n",
        "def total_loss (y_true, y_pred):\n",
        "\n",
        "    px_loss = pixel_loss(y_true, y_pred)\n",
        "\n",
        "    ctx_loss = contextual_loss(y_true, y_pred)\n",
        "\n",
        "    return (0.2 * px_loss) + (0.8 * ctx_loss)"
      ]
    },
    {
      "cell_type": "markdown",
      "metadata": {
        "id": "CjHNkN5qrrqK"
      },
      "source": [
        "## Load Dataset"
      ]
    },
    {
      "cell_type": "code",
      "execution_count": null,
      "metadata": {
        "id": "dfMJp9OxrrqK"
      },
      "outputs": [],
      "source": [
        "# dataset path\n",
        "b_photo_path = '/content/drive/MyDrive/Project/Dataset/CUHK/Training photo/'\n",
        "b_sketch_path = '/content/drive/MyDrive/Project/Dataset/CUHK/Training sketch/'\n",
        "\n",
        "blue_photo = load_filename(b_photo_path)\n",
        "blue_sketch = load_filename(b_sketch_path)"
      ]
    },
    {
      "cell_type": "code",
      "execution_count": null,
      "metadata": {
        "id": "ZDvOn_BQrrqR",
        "scrolled": true
      },
      "outputs": [],
      "source": [
        "#plt.imshow(cv2.cvtColor(cv2.imread(blue_photo[15]).astype('uint8'), cv2.COLOR_BGR2RGB))"
      ]
    },
    {
      "cell_type": "code",
      "execution_count": null,
      "metadata": {
        "colab": {
          "base_uri": "https://localhost:8080/",
          "height": 435
        },
        "id": "njN5jdrWrrqU",
        "outputId": "938d6eed-c606-45df-83db-77ca299bacf2"
      },
      "outputs": [
        {
          "output_type": "display_data",
          "data": {
            "text/plain": [
              "<Figure size 640x480 with 1 Axes>"
            ],
            "image/png": "[encoded data removed]"
          },
          "metadata": {}
        }
      ],
      "source": [
        "image_path = blue_photo[15]\n",
        "\n",
        "# Check if the image path is valid\n",
        "if not os.path.exists(image_path):\n",
        "    print(\"Invalid image path:\", image_path)\n",
        "else:\n",
        "    # Read the image\n",
        "    image = cv2.imread(image_path)\n",
        "\n",
        "    # Check if the image was successfully read\n",
        "    if image is None:\n",
        "        print(\"Failed to read image:\", image_path)\n",
        "    else:\n",
        "        # Convert to RGB color space and display the image\n",
        "        image_rgb = cv2.cvtColor(image, cv2.COLOR_BGR2RGB)\n",
        "        plt.imshow(image_rgb)\n",
        "        plt.show()\n"
      ]
    },
    {
      "cell_type": "code",
      "execution_count": null,
      "metadata": {
        "id": "olHDLreerrqU"
      },
      "outputs": [],
      "source": [
        "#plt.imshow(cv2.cvtColor(cv2.imread(blue_sketch[1102]).astype('uint8'), cv2.COLOR_BGR2RGB))"
      ]
    },
    {
      "cell_type": "code",
      "execution_count": null,
      "metadata": {
        "colab": {
          "base_uri": "https://localhost:8080/",
          "height": 435
        },
        "id": "qqgyv6AOrrqU",
        "outputId": "5b2e582a-9ed1-4faf-aca7-ebe7d12b0792"
      },
      "outputs": [
        {
          "output_type": "display_data",
          "data": {
            "text/plain": [
              "<Figure size 640x480 with 1 Axes>"
            ],
            "image/png": "[encoded data removed]"
          },
          "metadata": {}
        }
      ],
      "source": [
        "sketch_path = blue_sketch[15]\n",
        "\n",
        "# Check if the image path is valid\n",
        "if not os.path.exists(image_path):\n",
        "    print(\"Invalid image path:\", image_path)\n",
        "else:\n",
        "    # Read the image\n",
        "    image = cv2.imread(sketch_path)\n",
        "\n",
        "    # Check if the image was successfully read\n",
        "    if image is None:\n",
        "        print(\"Failed to read image:\", image_path)\n",
        "    else:\n",
        "        # Convert to RGB color space and display the image\n",
        "        image_rgb = cv2.cvtColor(image, cv2.COLOR_BGR2RGB)\n",
        "        plt.imshow(image_rgb)\n",
        "        plt.show()\n"
      ]
    },
    {
      "cell_type": "markdown",
      "metadata": {
        "id": "sAncTlGCrrqU"
      },
      "source": [
        "## Define GAN Model"
      ]
    },
    {
      "cell_type": "code",
      "execution_count": null,
      "metadata": {
        "id": "gEnqTrGTrrqV",
        "scrolled": false
      },
      "outputs": [],
      "source": [
        "img_shape = (256, 256, 3)\n",
        "\n",
        "d_model = discriminator(img_shape)\n",
        "\n",
        "g_model = generator(img_shape)\n",
        "\n",
        "gan_model = GAN(g_model, d_model, img_shape)"
      ]
    },
    {
      "cell_type": "code",
      "execution_count": null,
      "metadata": {
        "colab": {
          "base_uri": "https://localhost:8080/"
        },
        "id": "HtWuJ8fVrrqW",
        "outputId": "79016499-dfd9-4402-f06f-e3518484e5a2",
        "scrolled": true
      },
      "outputs": [
        {
          "output_type": "stream",
          "name": "stdout",
          "text": [
            "Model: \"GAN\"\n",
            "__________________________________________________________________________________________________\n",
            " Layer (type)                   Output Shape         Param #     Connected to                     \n",
            "==================================================================================================\n",
            " input_8 (InputLayer)           [(None, 256, 256, 3  0           []                               \n",
            "                                )]                                                                \n",
            "                                                                                                  \n",
            " generator (Functional)         (None, 256, 256, 3)  41825691    ['input_8[0][0]']                \n",
            "                                                                                                  \n",
            " discriminator (Functional)     (None, 64, 64, 1)    539203      ['input_8[0][0]',                \n",
            "                                                                  'generator[0][0]']              \n",
            "                                                                                                  \n",
            "==================================================================================================\n",
            "Total params: 42,364,894\n",
            "Trainable params: 41,825,691\n",
            "Non-trainable params: 539,203\n",
            "__________________________________________________________________________________________________\n"
          ]
        }
      ],
      "source": [
        "gan_model.summary()"
      ]
    },
    {
      "cell_type": "code",
      "execution_count": null,
      "metadata": {
        "id": "h_3aXI6Xrrqh",
        "scrolled": true
      },
      "outputs": [],
      "source": [
        "opt = Adam(lr=2e-4, beta_1=0.5)\n",
        "\n",
        "d_model.compile(loss='binary_crossentropy', optimizer=opt, loss_weights=[0.5])\n",
        "gan_model.compile(loss=['binary_crossentropy', total_loss], optimizer=opt, loss_weights=[1,100])"
      ]
    },
    {
      "cell_type": "markdown",
      "metadata": {
        "id": "4KDxIknmrrqh"
      },
      "source": [
        "## Start Training"
      ]
    },
    {
      "cell_type": "code",
      "execution_count": null,
      "metadata": {
        "colab": {
          "base_uri": "https://localhost:8080/"
        },
        "id": "G5BJjbVgrrqh",
        "scrolled": true,
        "outputId": "1f7ae17e-b48a-4bd8-f184-8070c82cf825"
      },
      "outputs": [
        {
          "metadata": {
            "tags": null
          },
          "name": "stdout",
          "output_type": "stream",
          "text": [
            " ========== Epoch 1 ========== \n",
            "1/1 [==============================] - 0s 92ms/step\n",
            "Batch : 1, D Loss : 3.608 | G Loss : 16.772\n",
            "1/1 [==============================] - 0s 84ms/step\n",
            "Batch : 2, D Loss : 3.500 | G Loss : 16.990\n",
            "1/1 [==============================] - 0s 59ms/step\n",
            "Batch : 3, D Loss : 3.613 | G Loss : 16.720\n",
            "1/1 [==============================] - 0s 30ms/step\n",
            "Batch : 4, D Loss : 3.565 | G Loss : 16.687\n",
            "1/1 [==============================] - 0s 29ms/step\n",
            "Batch : 5, D Loss : 3.618 | G Loss : 17.221\n",
            "1/1 [==============================] - 0s 22ms/step\n"
          ]
        },
        {
          "metadata": {
            "tags": null
          },
          "name": "stderr",
          "output_type": "stream",
          "text": [
            "WARNING:tensorflow:Compiled the loaded model, but the compiled metrics have yet to be built. `model.compile_metrics` will be empty until you train or evaluate the model.\n"
          ]
        },
        {
          "metadata": {
            "tags": null
          },
          "name": "stdout",
          "output_type": "stream",
          "text": [
            ">Saved: plot_000001.png and g_model & d_model\n",
            " ========== Epoch 2 ========== \n",
            "1/1 [==============================] - 0s 48ms/step\n",
            "Batch : 1, D Loss : 3.607 | G Loss : 16.952\n",
            "1/1 [==============================] - 0s 31ms/step\n",
            "Batch : 2, D Loss : 3.526 | G Loss : 16.895\n",
            "1/1 [==============================] - 0s 47ms/step\n",
            "Batch : 3, D Loss : 3.518 | G Loss : 17.152\n",
            "1/1 [==============================] - 0s 37ms/step\n",
            "Batch : 4, D Loss : 3.572 | G Loss : 16.709\n",
            "1/1 [==============================] - 0s 37ms/step\n",
            "Batch : 5, D Loss : 3.549 | G Loss : 16.849\n",
            "1/1 [==============================] - 0s 22ms/step\n"
          ]
        },
        {
          "metadata": {
            "tags": null
          },
          "name": "stderr",
          "output_type": "stream",
          "text": [
            "WARNING:tensorflow:Compiled the loaded model, but the compiled metrics have yet to be built. `model.compile_metrics` will be empty until you train or evaluate the model.\n"
          ]
        },
        {
          "metadata": {
            "tags": null
          },
          "name": "stdout",
          "output_type": "stream",
          "text": [
            ">Saved: plot_000002.png and g_model & d_model\n",
            " ========== Epoch 3 ========== \n",
            "1/1 [==============================] - 0s 54ms/step\n",
            "Batch : 1, D Loss : 3.563 | G Loss : 18.225\n",
            "1/1 [==============================] - 0s 47ms/step\n",
            "Batch : 2, D Loss : 3.615 | G Loss : 17.722\n",
            "1/1 [==============================] - 0s 44ms/step\n",
            "Batch : 3, D Loss : 3.547 | G Loss : 16.657\n",
            "1/1 [==============================] - 0s 30ms/step\n",
            "Batch : 4, D Loss : 3.585 | G Loss : 17.100\n",
            "1/1 [==============================] - 0s 34ms/step\n",
            "Batch : 5, D Loss : 3.646 | G Loss : 16.724\n",
            "1/1 [==============================] - 0s 46ms/step\n"
          ]
        },
        {
          "metadata": {
            "tags": null
          },
          "name": "stderr",
          "output_type": "stream",
          "text": [
            "WARNING:tensorflow:Compiled the loaded model, but the compiled metrics have yet to be built. `model.compile_metrics` will be empty until you train or evaluate the model.\n"
          ]
        },
        {
          "metadata": {
            "tags": null
          },
          "name": "stdout",
          "output_type": "stream",
          "text": [
            ">Saved: plot_000003.png and g_model & d_model\n",
            " ========== Epoch 4 ========== \n",
            "1/1 [==============================] - 0s 33ms/step\n",
            "Batch : 1, D Loss : 3.588 | G Loss : 16.549\n",
            "1/1 [==============================] - 0s 31ms/step\n",
            "Batch : 2, D Loss : 3.558 | G Loss : 17.646\n",
            "1/1 [==============================] - 0s 34ms/step\n",
            "Batch : 3, D Loss : 3.604 | G Loss : 17.049\n",
            "1/1 [==============================] - 0s 48ms/step\n",
            "Batch : 4, D Loss : 3.594 | G Loss : 16.908\n",
            "1/1 [==============================] - 0s 50ms/step\n",
            "Batch : 5, D Loss : 3.529 | G Loss : 17.235\n",
            "1/1 [==============================] - 0s 21ms/step\n"
          ]
        },
        {
          "metadata": {
            "tags": null
          },
          "name": "stderr",
          "output_type": "stream",
          "text": [
            "WARNING:tensorflow:Compiled the loaded model, but the compiled metrics have yet to be built. `model.compile_metrics` will be empty until you train or evaluate the model.\n"
          ]
        },
        {
          "metadata": {
            "tags": null
          },
          "name": "stdout",
          "output_type": "stream",
          "text": [
            ">Saved: plot_000004.png and g_model & d_model\n",
            " ========== Epoch 5 ========== \n",
            "1/1 [==============================] - 0s 32ms/step\n",
            "Batch : 1, D Loss : 3.603 | G Loss : 16.891\n",
            "1/1 [==============================] - 0s 33ms/step\n",
            "Batch : 2, D Loss : 3.579 | G Loss : 16.783\n",
            "1/1 [==============================] - 0s 31ms/step\n",
            "Batch : 3, D Loss : 3.623 | G Loss : 17.368\n",
            "1/1 [==============================] - 0s 30ms/step\n",
            "Batch : 4, D Loss : 3.503 | G Loss : 16.939\n",
            "1/1 [==============================] - 0s 52ms/step\n",
            "Batch : 5, D Loss : 3.619 | G Loss : 17.494\n",
            "1/1 [==============================] - 0s 30ms/step\n"
          ]
        },
        {
          "metadata": {
            "tags": null
          },
          "name": "stderr",
          "output_type": "stream",
          "text": [
            "WARNING:tensorflow:Compiled the loaded model, but the compiled metrics have yet to be built. `model.compile_metrics` will be empty until you train or evaluate the model.\n"
          ]
        },
        {
          "metadata": {
            "tags": null
          },
          "name": "stdout",
          "output_type": "stream",
          "text": [
            ">Saved: plot_000005.png and g_model & d_model\n",
            " ========== Epoch 6 ========== \n",
            "1/1 [==============================] - 0s 30ms/step\n",
            "Batch : 1, D Loss : 3.601 | G Loss : 17.115\n",
            "1/1 [==============================] - 0s 30ms/step\n",
            "Batch : 2, D Loss : 3.562 | G Loss : 17.580\n",
            "1/1 [==============================] - 0s 30ms/step\n",
            "Batch : 3, D Loss : 3.590 | G Loss : 16.689\n",
            "1/1 [==============================] - 0s 27ms/step\n",
            "Batch : 4, D Loss : 3.576 | G Loss : 17.157\n",
            "1/1 [==============================] - 0s 29ms/step\n",
            "Batch : 5, D Loss : 3.627 | G Loss : 17.016\n",
            "1/1 [==============================] - 0s 34ms/step\n"
          ]
        },
        {
          "metadata": {
            "tags": null
          },
          "name": "stderr",
          "output_type": "stream",
          "text": [
            "WARNING:tensorflow:Compiled the loaded model, but the compiled metrics have yet to be built. `model.compile_metrics` will be empty until you train or evaluate the model.\n"
          ]
        },
        {
          "metadata": {
            "tags": null
          },
          "name": "stdout",
          "output_type": "stream",
          "text": [
            ">Saved: plot_000006.png and g_model & d_model\n",
            " ========== Epoch 7 ========== \n",
            "1/1 [==============================] - 0s 33ms/step\n",
            "Batch : 1, D Loss : 3.540 | G Loss : 16.828\n",
            "1/1 [==============================] - 0s 29ms/step\n",
            "Batch : 2, D Loss : 3.629 | G Loss : 16.821\n",
            "1/1 [==============================] - 0s 29ms/step\n",
            "Batch : 3, D Loss : 3.610 | G Loss : 17.406\n",
            "1/1 [==============================] - 0s 29ms/step\n",
            "Batch : 4, D Loss : 3.582 | G Loss : 17.301\n",
            "1/1 [==============================] - 0s 30ms/step\n",
            "Batch : 5, D Loss : 3.617 | G Loss : 16.915\n",
            "1/1 [==============================] - 0s 21ms/step\n"
          ]
        },
        {
          "metadata": {
            "tags": null
          },
          "name": "stderr",
          "output_type": "stream",
          "text": [
            "WARNING:tensorflow:Compiled the loaded model, but the compiled metrics have yet to be built. `model.compile_metrics` will be empty until you train or evaluate the model.\n"
          ]
        },
        {
          "metadata": {
            "tags": null
          },
          "name": "stdout",
          "output_type": "stream",
          "text": [
            ">Saved: plot_000007.png and g_model & d_model\n",
            " ========== Epoch 8 ========== \n",
            "1/1 [==============================] - 0s 32ms/step\n",
            "Batch : 1, D Loss : 3.638 | G Loss : 17.463\n",
            "1/1 [==============================] - 0s 28ms/step\n",
            "Batch : 2, D Loss : 3.557 | G Loss : 16.967\n",
            "1/1 [==============================] - 0s 29ms/step\n",
            "Batch : 3, D Loss : 3.633 | G Loss : 17.154\n",
            "1/1 [==============================] - 0s 31ms/step\n",
            "Batch : 4, D Loss : 3.582 | G Loss : 16.584\n",
            "1/1 [==============================] - 0s 30ms/step\n",
            "Batch : 5, D Loss : 3.549 | G Loss : 17.312\n",
            "1/1 [==============================] - 0s 22ms/step\n"
          ]
        },
        {
          "metadata": {
            "tags": null
          },
          "name": "stderr",
          "output_type": "stream",
          "text": [
            "WARNING:tensorflow:Compiled the loaded model, but the compiled metrics have yet to be built. `model.compile_metrics` will be empty until you train or evaluate the model.\n"
          ]
        },
        {
          "metadata": {
            "tags": null
          },
          "name": "stdout",
          "output_type": "stream",
          "text": [
            ">Saved: plot_000008.png and g_model & d_model\n",
            " ========== Epoch 9 ========== \n",
            "1/1 [==============================] - 0s 44ms/step\n",
            "Batch : 1, D Loss : 3.612 | G Loss : 16.875\n",
            "1/1 [==============================] - 0s 30ms/step\n",
            "Batch : 2, D Loss : 3.660 | G Loss : 17.189\n",
            "1/1 [==============================] - 0s 32ms/step\n",
            "Batch : 3, D Loss : 3.611 | G Loss : 16.826\n",
            "1/1 [==============================] - 0s 30ms/step\n",
            "Batch : 4, D Loss : 3.556 | G Loss : 16.673\n",
            "1/1 [==============================] - 0s 30ms/step\n",
            "Batch : 5, D Loss : 3.565 | G Loss : 16.922\n",
            "1/1 [==============================] - 0s 23ms/step\n"
          ]
        },
        {
          "metadata": {
            "tags": null
          },
          "name": "stderr",
          "output_type": "stream",
          "text": [
            "WARNING:tensorflow:Compiled the loaded model, but the compiled metrics have yet to be built. `model.compile_metrics` will be empty until you train or evaluate the model.\n"
          ]
        },
        {
          "metadata": {
            "tags": null
          },
          "name": "stdout",
          "output_type": "stream",
          "text": [
            ">Saved: plot_000009.png and g_model & d_model\n",
            " ========== Epoch 10 ========== \n",
            "1/1 [==============================] - 0s 34ms/step\n",
            "Batch : 1, D Loss : 3.611 | G Loss : 19.456\n",
            "1/1 [==============================] - 0s 41ms/step\n",
            "Batch : 2, D Loss : 3.552 | G Loss : 16.852\n",
            "1/1 [==============================] - 0s 47ms/step\n",
            "Batch : 3, D Loss : 3.548 | G Loss : 16.922\n",
            "1/1 [==============================] - 0s 30ms/step\n",
            "Batch : 4, D Loss : 3.598 | G Loss : 16.836\n",
            "1/1 [==============================] - 0s 29ms/step\n",
            "Batch : 5, D Loss : 3.572 | G Loss : 16.734\n",
            "1/1 [==============================] - 0s 21ms/step\n"
          ]
        },
        {
          "metadata": {
            "tags": null
          },
          "name": "stderr",
          "output_type": "stream",
          "text": [
            "WARNING:tensorflow:Compiled the loaded model, but the compiled metrics have yet to be built. `model.compile_metrics` will be empty until you train or evaluate the model.\n"
          ]
        },
        {
          "metadata": {
            "tags": null
          },
          "name": "stdout",
          "output_type": "stream",
          "text": [
            ">Saved: plot_000010.png and g_model & d_model\n",
            " ========== Epoch 11 ========== \n",
            "1/1 [==============================] - 0s 36ms/step\n",
            "Batch : 1, D Loss : 3.555 | G Loss : 16.419\n",
            "1/1 [==============================] - 0s 27ms/step\n",
            "Batch : 2, D Loss : 3.504 | G Loss : 16.840\n",
            "1/1 [==============================] - 0s 31ms/step\n",
            "Batch : 3, D Loss : 3.609 | G Loss : 17.434\n",
            "1/1 [==============================] - 0s 50ms/step\n",
            "Batch : 4, D Loss : 3.579 | G Loss : 17.443\n",
            "1/1 [==============================] - 0s 29ms/step\n",
            "Batch : 5, D Loss : 3.576 | G Loss : 16.643\n",
            "1/1 [==============================] - 0s 24ms/step\n"
          ]
        },
        {
          "metadata": {
            "tags": null
          },
          "name": "stderr",
          "output_type": "stream",
          "text": [
            "WARNING:tensorflow:Compiled the loaded model, but the compiled metrics have yet to be built. `model.compile_metrics` will be empty until you train or evaluate the model.\n"
          ]
        },
        {
          "metadata": {
            "tags": null
          },
          "name": "stdout",
          "output_type": "stream",
          "text": [
            ">Saved: plot_000011.png and g_model & d_model\n",
            " ========== Epoch 12 ========== \n",
            "1/1 [==============================] - 0s 35ms/step\n",
            "Batch : 1, D Loss : 3.568 | G Loss : 16.588\n",
            "1/1 [==============================] - 0s 32ms/step\n",
            "Batch : 2, D Loss : 3.623 | G Loss : 16.955\n",
            "1/1 [==============================] - 0s 30ms/step\n",
            "Batch : 3, D Loss : 3.566 | G Loss : 16.995\n",
            "1/1 [==============================] - 0s 36ms/step\n",
            "Batch : 4, D Loss : 3.554 | G Loss : 16.632\n",
            "1/1 [==============================] - 0s 29ms/step\n",
            "Batch : 5, D Loss : 3.563 | G Loss : 17.139\n",
            "1/1 [==============================] - 0s 32ms/step\n"
          ]
        },
        {
          "metadata": {
            "tags": null
          },
          "name": "stderr",
          "output_type": "stream",
          "text": [
            "WARNING:tensorflow:Compiled the loaded model, but the compiled metrics have yet to be built. `model.compile_metrics` will be empty until you train or evaluate the model.\n"
          ]
        },
        {
          "metadata": {
            "tags": null
          },
          "name": "stdout",
          "output_type": "stream",
          "text": [
            ">Saved: plot_000012.png and g_model & d_model\n",
            " ========== Epoch 13 ========== \n",
            "1/1 [==============================] - 0s 34ms/step\n",
            "Batch : 1, D Loss : 3.579 | G Loss : 17.276\n",
            "1/1 [==============================] - 0s 32ms/step\n",
            "Batch : 2, D Loss : 3.584 | G Loss : 16.931\n",
            "1/1 [==============================] - 0s 30ms/step\n",
            "Batch : 3, D Loss : 3.594 | G Loss : 16.839\n",
            "1/1 [==============================] - 0s 30ms/step\n",
            "Batch : 4, D Loss : 3.520 | G Loss : 16.122\n",
            "1/1 [==============================] - 0s 31ms/step\n",
            "Batch : 5, D Loss : 3.648 | G Loss : 17.330\n",
            "1/1 [==============================] - 0s 24ms/step\n"
          ]
        },
        {
          "metadata": {
            "tags": null
          },
          "name": "stderr",
          "output_type": "stream",
          "text": [
            "WARNING:tensorflow:Compiled the loaded model, but the compiled metrics have yet to be built. `model.compile_metrics` will be empty until you train or evaluate the model.\n"
          ]
        },
        {
          "metadata": {
            "tags": null
          },
          "name": "stdout",
          "output_type": "stream",
          "text": [
            ">Saved: plot_000013.png and g_model & d_model\n",
            " ========== Epoch 14 ========== \n",
            "1/1 [==============================] - 0s 36ms/step\n",
            "Batch : 1, D Loss : 3.675 | G Loss : 18.022\n",
            "1/1 [==============================] - 0s 34ms/step\n",
            "Batch : 2, D Loss : 3.654 | G Loss : 17.343\n",
            "1/1 [==============================] - 0s 28ms/step\n",
            "Batch : 3, D Loss : 3.705 | G Loss : 23.194\n",
            "1/1 [==============================] - 0s 31ms/step\n",
            "Batch : 4, D Loss : 3.555 | G Loss : 18.755\n",
            "1/1 [==============================] - 0s 31ms/step\n",
            "Batch : 5, D Loss : 3.556 | G Loss : 18.706\n",
            "1/1 [==============================] - 0s 24ms/step\n"
          ]
        },
        {
          "metadata": {
            "tags": null
          },
          "name": "stderr",
          "output_type": "stream",
          "text": [
            "WARNING:tensorflow:Compiled the loaded model, but the compiled metrics have yet to be built. `model.compile_metrics` will be empty until you train or evaluate the model.\n"
          ]
        },
        {
          "metadata": {
            "tags": null
          },
          "name": "stdout",
          "output_type": "stream",
          "text": [
            ">Saved: plot_000014.png and g_model & d_model\n",
            " ========== Epoch 15 ========== \n",
            "1/1 [==============================] - 0s 37ms/step\n",
            "Batch : 1, D Loss : 3.673 | G Loss : 17.957\n",
            "1/1 [==============================] - 0s 30ms/step\n",
            "Batch : 2, D Loss : 3.684 | G Loss : 18.392\n",
            "1/1 [==============================] - 0s 31ms/step\n",
            "Batch : 3, D Loss : 3.642 | G Loss : 17.736\n",
            "1/1 [==============================] - 0s 32ms/step\n",
            "Batch : 4, D Loss : 3.685 | G Loss : 18.178\n",
            "1/1 [==============================] - 0s 30ms/step\n",
            "Batch : 5, D Loss : 3.586 | G Loss : 17.064\n",
            "1/1 [==============================] - 0s 25ms/step\n"
          ]
        },
        {
          "metadata": {
            "tags": null
          },
          "name": "stderr",
          "output_type": "stream",
          "text": [
            "WARNING:tensorflow:Compiled the loaded model, but the compiled metrics have yet to be built. `model.compile_metrics` will be empty until you train or evaluate the model.\n"
          ]
        },
        {
          "metadata": {
            "tags": null
          },
          "name": "stdout",
          "output_type": "stream",
          "text": [
            ">Saved: plot_000015.png and g_model & d_model\n",
            " ========== Epoch 16 ========== \n",
            "1/1 [==============================] - 0s 56ms/step\n",
            "Batch : 1, D Loss : 3.646 | G Loss : 18.109\n",
            "1/1 [==============================] - 0s 32ms/step\n",
            "Batch : 2, D Loss : 3.627 | G Loss : 17.501\n",
            "1/1 [==============================] - 0s 30ms/step\n",
            "Batch : 3, D Loss : 3.568 | G Loss : 17.570\n",
            "1/1 [==============================] - 0s 32ms/step\n",
            "Batch : 4, D Loss : 3.543 | G Loss : 16.558\n",
            "1/1 [==============================] - 0s 30ms/step\n",
            "Batch : 5, D Loss : 3.656 | G Loss : 29.729\n",
            "1/1 [==============================] - 0s 24ms/step\n"
          ]
        },
        {
          "metadata": {
            "tags": null
          },
          "name": "stderr",
          "output_type": "stream",
          "text": [
            "WARNING:tensorflow:Compiled the loaded model, but the compiled metrics have yet to be built. `model.compile_metrics` will be empty until you train or evaluate the model.\n"
          ]
        },
        {
          "metadata": {
            "tags": null
          },
          "name": "stdout",
          "output_type": "stream",
          "text": [
            ">Saved: plot_000016.png and g_model & d_model\n",
            " ========== Epoch 17 ========== \n",
            "1/1 [==============================] - 0s 35ms/step\n",
            "Batch : 1, D Loss : 3.728 | G Loss : 24.006\n",
            "1/1 [==============================] - 0s 34ms/step\n",
            "Batch : 2, D Loss : 3.676 | G Loss : 21.267\n",
            "1/1 [==============================] - 0s 33ms/step\n",
            "Batch : 3, D Loss : 3.663 | G Loss : 19.707\n",
            "1/1 [==============================] - 0s 32ms/step\n",
            "Batch : 4, D Loss : 3.664 | G Loss : 18.983\n",
            "1/1 [==============================] - 0s 34ms/step\n",
            "Batch : 5, D Loss : 3.600 | G Loss : 18.367\n",
            "1/1 [==============================] - 0s 26ms/step\n"
          ]
        },
        {
          "metadata": {
            "tags": null
          },
          "name": "stderr",
          "output_type": "stream",
          "text": [
            "WARNING:tensorflow:Compiled the loaded model, but the compiled metrics have yet to be built. `model.compile_metrics` will be empty until you train or evaluate the model.\n"
          ]
        },
        {
          "metadata": {
            "tags": null
          },
          "name": "stdout",
          "output_type": "stream",
          "text": [
            ">Saved: plot_000017.png and g_model & d_model\n",
            " ========== Epoch 18 ========== \n",
            "1/1 [==============================] - 0s 37ms/step\n",
            "Batch : 1, D Loss : 3.667 | G Loss : 18.450\n",
            "1/1 [==============================] - 0s 39ms/step\n",
            "Batch : 2, D Loss : 3.584 | G Loss : 17.986\n",
            "1/1 [==============================] - 0s 31ms/step\n",
            "Batch : 3, D Loss : 3.614 | G Loss : 18.249\n",
            "1/1 [==============================] - 0s 34ms/step\n",
            "Batch : 4, D Loss : 3.563 | G Loss : 17.930\n",
            "1/1 [==============================] - 0s 35ms/step\n",
            "Batch : 5, D Loss : 3.594 | G Loss : 17.606\n",
            "1/1 [==============================] - 0s 26ms/step\n"
          ]
        },
        {
          "metadata": {
            "tags": null
          },
          "name": "stderr",
          "output_type": "stream",
          "text": [
            "WARNING:tensorflow:Compiled the loaded model, but the compiled metrics have yet to be built. `model.compile_metrics` will be empty until you train or evaluate the model.\n"
          ]
        },
        {
          "metadata": {
            "tags": null
          },
          "name": "stdout",
          "output_type": "stream",
          "text": [
            ">Saved: plot_000018.png and g_model & d_model\n",
            " ========== Epoch 19 ========== \n",
            "1/1 [==============================] - 0s 35ms/step\n",
            "Batch : 1, D Loss : 3.568 | G Loss : 17.500\n",
            "1/1 [==============================] - 0s 36ms/step\n",
            "Batch : 2, D Loss : 3.629 | G Loss : 17.495\n",
            "1/1 [==============================] - 0s 34ms/step\n",
            "Batch : 3, D Loss : 3.630 | G Loss : 17.909\n",
            "1/1 [==============================] - 0s 34ms/step\n",
            "Batch : 4, D Loss : 3.601 | G Loss : 17.038\n",
            "1/1 [==============================] - 0s 35ms/step\n",
            "Batch : 5, D Loss : 3.594 | G Loss : 17.014\n",
            "1/1 [==============================] - 0s 26ms/step\n"
          ]
        },
        {
          "metadata": {
            "tags": null
          },
          "name": "stderr",
          "output_type": "stream",
          "text": [
            "WARNING:tensorflow:Compiled the loaded model, but the compiled metrics have yet to be built. `model.compile_metrics` will be empty until you train or evaluate the model.\n"
          ]
        },
        {
          "metadata": {
            "tags": null
          },
          "name": "stdout",
          "output_type": "stream",
          "text": [
            ">Saved: plot_000019.png and g_model & d_model\n",
            " ========== Epoch 20 ========== \n",
            "1/1 [==============================] - 0s 58ms/step\n",
            "Batch : 1, D Loss : 3.578 | G Loss : 17.282\n",
            "1/1 [==============================] - 0s 35ms/step\n",
            "Batch : 2, D Loss : 3.583 | G Loss : 17.497\n",
            "1/1 [==============================] - 0s 35ms/step\n",
            "Batch : 3, D Loss : 3.604 | G Loss : 17.402\n",
            "1/1 [==============================] - 0s 34ms/step\n",
            "Batch : 4, D Loss : 3.535 | G Loss : 17.510\n",
            "1/1 [==============================] - 0s 32ms/step\n",
            "Batch : 5, D Loss : 3.638 | G Loss : 18.361\n",
            "1/1 [==============================] - 0s 26ms/step\n"
          ]
        },
        {
          "metadata": {
            "tags": null
          },
          "name": "stderr",
          "output_type": "stream",
          "text": [
            "WARNING:tensorflow:Compiled the loaded model, but the compiled metrics have yet to be built. `model.compile_metrics` will be empty until you train or evaluate the model.\n"
          ]
        },
        {
          "metadata": {
            "tags": null
          },
          "name": "stdout",
          "output_type": "stream",
          "text": [
            ">Saved: plot_000020.png and g_model & d_model\n",
            " ========== Epoch 21 ========== \n",
            "1/1 [==============================] - 0s 36ms/step\n",
            "Batch : 1, D Loss : 3.669 | G Loss : 17.545\n",
            "1/1 [==============================] - 0s 88ms/step\n",
            "Batch : 2, D Loss : 3.583 | G Loss : 17.272\n",
            "1/1 [==============================] - 0s 39ms/step\n",
            "Batch : 3, D Loss : 3.574 | G Loss : 17.481\n",
            "1/1 [==============================] - 0s 33ms/step\n",
            "Batch : 4, D Loss : 3.618 | G Loss : 16.965\n",
            "1/1 [==============================] - 0s 35ms/step\n",
            "Batch : 5, D Loss : 3.571 | G Loss : 16.824\n",
            "1/1 [==============================] - 0s 27ms/step\n"
          ]
        },
        {
          "metadata": {
            "tags": null
          },
          "name": "stderr",
          "output_type": "stream",
          "text": [
            "WARNING:tensorflow:Compiled the loaded model, but the compiled metrics have yet to be built. `model.compile_metrics` will be empty until you train or evaluate the model.\n"
          ]
        },
        {
          "metadata": {
            "tags": null
          },
          "name": "stdout",
          "output_type": "stream",
          "text": [
            ">Saved: plot_000021.png and g_model & d_model\n",
            " ========== Epoch 22 ========== \n",
            "1/1 [==============================] - 0s 37ms/step\n",
            "Batch : 1, D Loss : 3.618 | G Loss : 17.275\n",
            "1/1 [==============================] - 0s 34ms/step\n",
            "Batch : 2, D Loss : 3.632 | G Loss : 17.150\n",
            "1/1 [==============================] - 0s 61ms/step\n",
            "Batch : 3, D Loss : 3.556 | G Loss : 17.378\n",
            "1/1 [==============================] - 0s 34ms/step\n",
            "Batch : 4, D Loss : 3.575 | G Loss : 16.911\n",
            "1/1 [==============================] - 0s 42ms/step\n",
            "Batch : 5, D Loss : 3.627 | G Loss : 16.785\n",
            "1/1 [==============================] - 0s 26ms/step\n"
          ]
        },
        {
          "metadata": {
            "tags": null
          },
          "name": "stderr",
          "output_type": "stream",
          "text": [
            "WARNING:tensorflow:Compiled the loaded model, but the compiled metrics have yet to be built. `model.compile_metrics` will be empty until you train or evaluate the model.\n"
          ]
        },
        {
          "output_type": "stream",
          "name": "stdout",
          "text": [
            ">Saved: plot_000022.png and g_model & d_model\n",
            " ========== Epoch 23 ========== \n",
            "1/1 [==============================] - 0s 40ms/step\n",
            "Batch : 1, D Loss : 3.555 | G Loss : 16.787\n",
            "1/1 [==============================] - 0s 37ms/step\n",
            "Batch : 2, D Loss : 3.620 | G Loss : 17.895\n",
            "1/1 [==============================] - 0s 51ms/step\n",
            "Batch : 3, D Loss : 3.626 | G Loss : 16.964\n",
            "1/1 [==============================] - 0s 34ms/step\n",
            "Batch : 4, D Loss : 3.538 | G Loss : 16.593\n",
            "1/1 [==============================] - 0s 32ms/step\n",
            "Batch : 5, D Loss : 3.549 | G Loss : 17.103\n",
            "1/1 [==============================] - 0s 31ms/step\n"
          ]
        },
        {
          "output_type": "stream",
          "name": "stderr",
          "text": [
            "WARNING:tensorflow:Compiled the loaded model, but the compiled metrics have yet to be built. `model.compile_metrics` will be empty until you train or evaluate the model.\n"
          ]
        },
        {
          "output_type": "stream",
          "name": "stdout",
          "text": [
            ">Saved: plot_000023.png and g_model & d_model\n",
            " ========== Epoch 24 ========== \n",
            "1/1 [==============================] - 0s 35ms/step\n",
            "Batch : 1, D Loss : 3.590 | G Loss : 16.691\n",
            "1/1 [==============================] - 0s 31ms/step\n",
            "Batch : 2, D Loss : 3.583 | G Loss : 17.077\n",
            "1/1 [==============================] - 0s 30ms/step\n",
            "Batch : 3, D Loss : 3.566 | G Loss : 16.577\n",
            "1/1 [==============================] - 0s 34ms/step\n",
            "Batch : 4, D Loss : 3.582 | G Loss : 16.738\n",
            "1/1 [==============================] - 0s 47ms/step\n",
            "Batch : 5, D Loss : 3.602 | G Loss : 17.614\n",
            "1/1 [==============================] - 0s 37ms/step\n"
          ]
        },
        {
          "output_type": "stream",
          "name": "stderr",
          "text": [
            "WARNING:tensorflow:Compiled the loaded model, but the compiled metrics have yet to be built. `model.compile_metrics` will be empty until you train or evaluate the model.\n"
          ]
        },
        {
          "output_type": "stream",
          "name": "stdout",
          "text": [
            ">Saved: plot_000024.png and g_model & d_model\n",
            " ========== Epoch 25 ========== \n",
            "1/1 [==============================] - 0s 41ms/step\n",
            "Batch : 1, D Loss : 3.615 | G Loss : 17.706\n",
            "1/1 [==============================] - 0s 31ms/step\n",
            "Batch : 2, D Loss : 3.557 | G Loss : 16.552\n",
            "1/1 [==============================] - 0s 32ms/step\n",
            "Batch : 3, D Loss : 3.502 | G Loss : 17.607\n",
            "1/1 [==============================] - 0s 32ms/step\n",
            "Batch : 4, D Loss : 3.639 | G Loss : 17.514\n",
            "1/1 [==============================] - 0s 33ms/step\n",
            "Batch : 5, D Loss : 3.616 | G Loss : 17.068\n",
            "1/1 [==============================] - 0s 24ms/step\n"
          ]
        },
        {
          "output_type": "stream",
          "name": "stderr",
          "text": [
            "WARNING:tensorflow:Compiled the loaded model, but the compiled metrics have yet to be built. `model.compile_metrics` will be empty until you train or evaluate the model.\n"
          ]
        },
        {
          "output_type": "stream",
          "name": "stdout",
          "text": [
            ">Saved: plot_000025.png and g_model & d_model\n",
            " ========== Epoch 26 ========== \n",
            "1/1 [==============================] - 0s 46ms/step\n",
            "Batch : 1, D Loss : 3.619 | G Loss : 17.380\n",
            "1/1 [==============================] - 0s 30ms/step\n",
            "Batch : 2, D Loss : 3.581 | G Loss : 16.907\n",
            "1/1 [==============================] - 0s 31ms/step\n",
            "Batch : 3, D Loss : 3.662 | G Loss : 17.073\n",
            "1/1 [==============================] - 0s 33ms/step\n",
            "Batch : 4, D Loss : 3.579 | G Loss : 16.730\n",
            "1/1 [==============================] - 0s 31ms/step\n",
            "Batch : 5, D Loss : 3.597 | G Loss : 17.627\n",
            "1/1 [==============================] - 0s 23ms/step\n"
          ]
        },
        {
          "output_type": "stream",
          "name": "stderr",
          "text": [
            "WARNING:tensorflow:Compiled the loaded model, but the compiled metrics have yet to be built. `model.compile_metrics` will be empty until you train or evaluate the model.\n"
          ]
        },
        {
          "output_type": "stream",
          "name": "stdout",
          "text": [
            ">Saved: plot_000026.png and g_model & d_model\n",
            " ========== Epoch 27 ========== \n",
            "1/1 [==============================] - 0s 30ms/step\n",
            "Batch : 1, D Loss : 3.568 | G Loss : 16.904\n",
            "1/1 [==============================] - 0s 35ms/step\n",
            "Batch : 2, D Loss : 3.644 | G Loss : 16.519\n",
            "1/1 [==============================] - 0s 53ms/step\n",
            "Batch : 3, D Loss : 3.576 | G Loss : 16.901\n",
            "1/1 [==============================] - 0s 34ms/step\n",
            "Batch : 4, D Loss : 3.593 | G Loss : 16.900\n",
            "1/1 [==============================] - 0s 32ms/step\n",
            "Batch : 5, D Loss : 3.610 | G Loss : 17.851\n",
            "1/1 [==============================] - 0s 25ms/step\n"
          ]
        },
        {
          "output_type": "stream",
          "name": "stderr",
          "text": [
            "WARNING:tensorflow:Compiled the loaded model, but the compiled metrics have yet to be built. `model.compile_metrics` will be empty until you train or evaluate the model.\n"
          ]
        },
        {
          "output_type": "stream",
          "name": "stdout",
          "text": [
            ">Saved: plot_000027.png and g_model & d_model\n",
            " ========== Epoch 28 ========== \n",
            "1/1 [==============================] - 0s 33ms/step\n",
            "Batch : 1, D Loss : 3.612 | G Loss : 16.934\n",
            "1/1 [==============================] - 0s 32ms/step\n",
            "Batch : 2, D Loss : 3.632 | G Loss : 17.781\n",
            "1/1 [==============================] - 0s 31ms/step\n",
            "Batch : 3, D Loss : 3.564 | G Loss : 16.769\n",
            "1/1 [==============================] - 0s 36ms/step\n",
            "Batch : 4, D Loss : 3.659 | G Loss : 28.242\n",
            "1/1 [==============================] - 0s 60ms/step\n",
            "Batch : 5, D Loss : 3.673 | G Loss : 23.729\n",
            "1/1 [==============================] - 0s 24ms/step\n"
          ]
        },
        {
          "output_type": "stream",
          "name": "stderr",
          "text": [
            "WARNING:tensorflow:Compiled the loaded model, but the compiled metrics have yet to be built. `model.compile_metrics` will be empty until you train or evaluate the model.\n"
          ]
        },
        {
          "output_type": "stream",
          "name": "stdout",
          "text": [
            ">Saved: plot_000028.png and g_model & d_model\n",
            " ========== Epoch 29 ========== \n",
            "1/1 [==============================] - 0s 35ms/step\n",
            "Batch : 1, D Loss : 3.675 | G Loss : 21.315\n",
            "1/1 [==============================] - 0s 32ms/step\n",
            "Batch : 2, D Loss : 3.670 | G Loss : 20.121\n",
            "1/1 [==============================] - 0s 35ms/step\n",
            "Batch : 3, D Loss : 3.655 | G Loss : 19.369\n",
            "1/1 [==============================] - 0s 34ms/step\n",
            "Batch : 4, D Loss : 3.658 | G Loss : 18.779\n",
            "1/1 [==============================] - 0s 30ms/step\n",
            "Batch : 5, D Loss : 3.636 | G Loss : 18.092\n",
            "1/1 [==============================] - 0s 46ms/step\n"
          ]
        },
        {
          "output_type": "stream",
          "name": "stderr",
          "text": [
            "WARNING:tensorflow:Compiled the loaded model, but the compiled metrics have yet to be built. `model.compile_metrics` will be empty until you train or evaluate the model.\n"
          ]
        },
        {
          "output_type": "stream",
          "name": "stdout",
          "text": [
            ">Saved: plot_000029.png and g_model & d_model\n",
            " ========== Epoch 30 ========== \n",
            "1/1 [==============================] - 0s 34ms/step\n",
            "Batch : 1, D Loss : 3.646 | G Loss : 17.468\n",
            "1/1 [==============================] - 0s 29ms/step\n",
            "Batch : 2, D Loss : 3.588 | G Loss : 17.864\n",
            "1/1 [==============================] - 0s 31ms/step\n",
            "Batch : 3, D Loss : 3.543 | G Loss : 17.562\n",
            "1/1 [==============================] - 0s 31ms/step\n",
            "Batch : 4, D Loss : 3.628 | G Loss : 17.708\n",
            "1/1 [==============================] - 0s 37ms/step\n",
            "Batch : 5, D Loss : 3.614 | G Loss : 17.211\n",
            "1/1 [==============================] - 0s 24ms/step\n"
          ]
        },
        {
          "output_type": "stream",
          "name": "stderr",
          "text": [
            "WARNING:tensorflow:Compiled the loaded model, but the compiled metrics have yet to be built. `model.compile_metrics` will be empty until you train or evaluate the model.\n"
          ]
        },
        {
          "output_type": "stream",
          "name": "stdout",
          "text": [
            ">Saved: plot_000030.png and g_model & d_model\n",
            " ========== Epoch 31 ========== \n",
            "1/1 [==============================] - 0s 36ms/step\n",
            "Batch : 1, D Loss : 3.641 | G Loss : 16.948\n",
            "1/1 [==============================] - 0s 33ms/step\n",
            "Batch : 2, D Loss : 3.649 | G Loss : 17.327\n",
            "1/1 [==============================] - 0s 35ms/step\n",
            "Batch : 3, D Loss : 3.596 | G Loss : 17.739\n",
            "1/1 [==============================] - 0s 29ms/step\n",
            "Batch : 4, D Loss : 3.588 | G Loss : 16.789\n",
            "1/1 [==============================] - 0s 39ms/step\n",
            "Batch : 5, D Loss : 3.585 | G Loss : 17.250\n",
            "1/1 [==============================] - 0s 24ms/step\n"
          ]
        },
        {
          "output_type": "stream",
          "name": "stderr",
          "text": [
            "WARNING:tensorflow:Compiled the loaded model, but the compiled metrics have yet to be built. `model.compile_metrics` will be empty until you train or evaluate the model.\n"
          ]
        },
        {
          "output_type": "stream",
          "name": "stdout",
          "text": [
            ">Saved: plot_000031.png and g_model & d_model\n",
            " ========== Epoch 32 ========== \n",
            "1/1 [==============================] - 0s 49ms/step\n",
            "Batch : 1, D Loss : 3.600 | G Loss : 16.952\n",
            "1/1 [==============================] - 0s 29ms/step\n",
            "Batch : 2, D Loss : 3.581 | G Loss : 16.997\n",
            "1/1 [==============================] - 0s 34ms/step\n",
            "Batch : 3, D Loss : 3.633 | G Loss : 17.010\n",
            "1/1 [==============================] - 0s 31ms/step\n",
            "Batch : 4, D Loss : 3.578 | G Loss : 16.561\n",
            "1/1 [==============================] - 0s 28ms/step\n",
            "Batch : 5, D Loss : 3.551 | G Loss : 16.393\n",
            "1/1 [==============================] - 0s 24ms/step\n"
          ]
        },
        {
          "output_type": "stream",
          "name": "stderr",
          "text": [
            "WARNING:tensorflow:Compiled the loaded model, but the compiled metrics have yet to be built. `model.compile_metrics` will be empty until you train or evaluate the model.\n"
          ]
        },
        {
          "output_type": "stream",
          "name": "stdout",
          "text": [
            ">Saved: plot_000032.png and g_model & d_model\n",
            " ========== Epoch 33 ========== \n",
            "1/1 [==============================] - 0s 34ms/step\n",
            "Batch : 1, D Loss : 3.603 | G Loss : 16.946\n",
            "1/1 [==============================] - 0s 31ms/step\n",
            "Batch : 2, D Loss : 3.568 | G Loss : 16.772\n",
            "1/1 [==============================] - 0s 58ms/step\n",
            "Batch : 3, D Loss : 3.599 | G Loss : 16.862\n",
            "1/1 [==============================] - 0s 29ms/step\n",
            "Batch : 4, D Loss : 3.620 | G Loss : 17.198\n",
            "1/1 [==============================] - 0s 32ms/step\n",
            "Batch : 5, D Loss : 3.609 | G Loss : 18.593\n",
            "1/1 [==============================] - 0s 24ms/step\n"
          ]
        },
        {
          "output_type": "stream",
          "name": "stderr",
          "text": [
            "WARNING:tensorflow:Compiled the loaded model, but the compiled metrics have yet to be built. `model.compile_metrics` will be empty until you train or evaluate the model.\n"
          ]
        },
        {
          "output_type": "stream",
          "name": "stdout",
          "text": [
            ">Saved: plot_000033.png and g_model & d_model\n",
            " ========== Epoch 34 ========== \n",
            "1/1 [==============================] - 0s 31ms/step\n",
            "Batch : 1, D Loss : 3.551 | G Loss : 18.056\n",
            "1/1 [==============================] - 0s 30ms/step\n",
            "Batch : 2, D Loss : 3.633 | G Loss : 17.210\n",
            "1/1 [==============================] - 0s 30ms/step\n",
            "Batch : 3, D Loss : 3.647 | G Loss : 17.853\n",
            "1/1 [==============================] - 0s 54ms/step\n",
            "Batch : 4, D Loss : 3.560 | G Loss : 16.943\n",
            "1/1 [==============================] - 0s 31ms/step\n",
            "Batch : 5, D Loss : 3.594 | G Loss : 17.073\n",
            "1/1 [==============================] - 0s 23ms/step\n"
          ]
        },
        {
          "output_type": "stream",
          "name": "stderr",
          "text": [
            "WARNING:tensorflow:Compiled the loaded model, but the compiled metrics have yet to be built. `model.compile_metrics` will be empty until you train or evaluate the model.\n"
          ]
        },
        {
          "output_type": "stream",
          "name": "stdout",
          "text": [
            ">Saved: plot_000034.png and g_model & d_model\n",
            " ========== Epoch 35 ========== \n",
            "1/1 [==============================] - 0s 32ms/step\n",
            "Batch : 1, D Loss : 3.579 | G Loss : 17.062\n",
            "1/1 [==============================] - 0s 30ms/step\n",
            "Batch : 2, D Loss : 3.629 | G Loss : 16.852\n",
            "1/1 [==============================] - 0s 32ms/step\n",
            "Batch : 3, D Loss : 3.734 | G Loss : 30.716\n",
            "1/1 [==============================] - 0s 32ms/step\n",
            "Batch : 4, D Loss : 3.684 | G Loss : 24.056\n",
            "1/1 [==============================] - 0s 31ms/step\n",
            "Batch : 5, D Loss : 3.638 | G Loss : 23.584\n",
            "1/1 [==============================] - 0s 33ms/step\n"
          ]
        },
        {
          "output_type": "stream",
          "name": "stderr",
          "text": [
            "WARNING:tensorflow:Compiled the loaded model, but the compiled metrics have yet to be built. `model.compile_metrics` will be empty until you train or evaluate the model.\n"
          ]
        },
        {
          "output_type": "stream",
          "name": "stdout",
          "text": [
            ">Saved: plot_000035.png and g_model & d_model\n",
            " ========== Epoch 36 ========== \n",
            "1/1 [==============================] - 0s 31ms/step\n",
            "Batch : 1, D Loss : 3.568 | G Loss : 22.090\n",
            "1/1 [==============================] - 0s 30ms/step\n",
            "Batch : 2, D Loss : 3.721 | G Loss : 21.278\n",
            "1/1 [==============================] - 0s 30ms/step\n",
            "Batch : 3, D Loss : 3.719 | G Loss : 20.092\n",
            "1/1 [==============================] - 0s 34ms/step\n",
            "Batch : 4, D Loss : 3.649 | G Loss : 18.485\n",
            "1/1 [==============================] - 0s 38ms/step\n",
            "Batch : 5, D Loss : 3.609 | G Loss : 18.532\n",
            "1/1 [==============================] - 0s 37ms/step\n"
          ]
        },
        {
          "output_type": "stream",
          "name": "stderr",
          "text": [
            "WARNING:tensorflow:Compiled the loaded model, but the compiled metrics have yet to be built. `model.compile_metrics` will be empty until you train or evaluate the model.\n"
          ]
        },
        {
          "output_type": "stream",
          "name": "stdout",
          "text": [
            ">Saved: plot_000036.png and g_model & d_model\n",
            " ========== Epoch 37 ========== \n",
            "1/1 [==============================] - 0s 35ms/step\n",
            "Batch : 1, D Loss : 3.594 | G Loss : 17.799\n",
            "1/1 [==============================] - 0s 32ms/step\n",
            "Batch : 2, D Loss : 3.586 | G Loss : 17.172\n",
            "1/1 [==============================] - 0s 30ms/step\n",
            "Batch : 3, D Loss : 3.634 | G Loss : 17.179\n",
            "1/1 [==============================] - 0s 30ms/step\n",
            "Batch : 4, D Loss : 3.649 | G Loss : 17.637\n",
            "1/1 [==============================] - 0s 50ms/step\n",
            "Batch : 5, D Loss : 3.608 | G Loss : 18.002\n",
            "1/1 [==============================] - 0s 36ms/step\n"
          ]
        },
        {
          "output_type": "stream",
          "name": "stderr",
          "text": [
            "WARNING:tensorflow:Compiled the loaded model, but the compiled metrics have yet to be built. `model.compile_metrics` will be empty until you train or evaluate the model.\n"
          ]
        },
        {
          "output_type": "stream",
          "name": "stdout",
          "text": [
            ">Saved: plot_000037.png and g_model & d_model\n",
            " ========== Epoch 38 ========== \n",
            "1/1 [==============================] - 0s 29ms/step\n",
            "Batch : 1, D Loss : 3.627 | G Loss : 17.619\n",
            "1/1 [==============================] - 0s 33ms/step\n",
            "Batch : 2, D Loss : 3.614 | G Loss : 17.334\n",
            "1/1 [==============================] - 0s 39ms/step\n",
            "Batch : 3, D Loss : 3.633 | G Loss : 17.648\n",
            "1/1 [==============================] - 0s 42ms/step\n",
            "Batch : 4, D Loss : 3.596 | G Loss : 17.315\n",
            "1/1 [==============================] - 0s 55ms/step\n",
            "Batch : 5, D Loss : 3.601 | G Loss : 17.222\n",
            "1/1 [==============================] - 0s 28ms/step\n"
          ]
        },
        {
          "output_type": "stream",
          "name": "stderr",
          "text": [
            "WARNING:tensorflow:Compiled the loaded model, but the compiled metrics have yet to be built. `model.compile_metrics` will be empty until you train or evaluate the model.\n"
          ]
        },
        {
          "output_type": "stream",
          "name": "stdout",
          "text": [
            ">Saved: plot_000038.png and g_model & d_model\n",
            " ========== Epoch 39 ========== \n",
            "1/1 [==============================] - 0s 35ms/step\n",
            "Batch : 1, D Loss : 3.629 | G Loss : 17.022\n",
            "1/1 [==============================] - 0s 27ms/step\n",
            "Batch : 2, D Loss : 3.595 | G Loss : 16.898\n",
            "1/1 [==============================] - 0s 33ms/step\n",
            "Batch : 3, D Loss : 3.619 | G Loss : 17.219\n",
            "1/1 [==============================] - 0s 28ms/step\n",
            "Batch : 4, D Loss : 3.643 | G Loss : 17.794\n",
            "1/1 [==============================] - 0s 32ms/step\n",
            "Batch : 5, D Loss : 3.623 | G Loss : 17.344\n",
            "1/1 [==============================] - 0s 34ms/step\n"
          ]
        },
        {
          "output_type": "stream",
          "name": "stderr",
          "text": [
            "WARNING:tensorflow:Compiled the loaded model, but the compiled metrics have yet to be built. `model.compile_metrics` will be empty until you train or evaluate the model.\n"
          ]
        },
        {
          "output_type": "stream",
          "name": "stdout",
          "text": [
            ">Saved: plot_000039.png and g_model & d_model\n",
            " ========== Epoch 40 ========== \n",
            "1/1 [==============================] - 0s 37ms/step\n",
            "Batch : 1, D Loss : 3.622 | G Loss : 16.791\n",
            "1/1 [==============================] - 0s 28ms/step\n",
            "Batch : 2, D Loss : 3.568 | G Loss : 16.904\n",
            "1/1 [==============================] - 0s 33ms/step\n",
            "Batch : 3, D Loss : 3.603 | G Loss : 16.989\n",
            "1/1 [==============================] - 0s 28ms/step\n",
            "Batch : 4, D Loss : 3.611 | G Loss : 16.858\n",
            "1/1 [==============================] - 0s 30ms/step\n",
            "Batch : 5, D Loss : 3.593 | G Loss : 17.405\n",
            "1/1 [==============================] - 0s 37ms/step\n"
          ]
        },
        {
          "output_type": "stream",
          "name": "stderr",
          "text": [
            "WARNING:tensorflow:Compiled the loaded model, but the compiled metrics have yet to be built. `model.compile_metrics` will be empty until you train or evaluate the model.\n"
          ]
        },
        {
          "output_type": "stream",
          "name": "stdout",
          "text": [
            ">Saved: plot_000040.png and g_model & d_model\n",
            " ========== Epoch 41 ========== \n",
            "1/1 [==============================] - 0s 33ms/step\n",
            "Batch : 1, D Loss : 3.521 | G Loss : 16.813\n",
            "1/1 [==============================] - 0s 29ms/step\n",
            "Batch : 2, D Loss : 3.678 | G Loss : 17.142\n",
            "1/1 [==============================] - 0s 31ms/step\n",
            "Batch : 3, D Loss : 3.575 | G Loss : 17.007\n",
            "1/1 [==============================] - 0s 34ms/step\n",
            "Batch : 4, D Loss : 3.622 | G Loss : 16.601\n",
            "1/1 [==============================] - 0s 28ms/step\n",
            "Batch : 5, D Loss : 3.580 | G Loss : 16.898\n",
            "1/1 [==============================] - 0s 23ms/step\n"
          ]
        },
        {
          "output_type": "stream",
          "name": "stderr",
          "text": [
            "WARNING:tensorflow:Compiled the loaded model, but the compiled metrics have yet to be built. `model.compile_metrics` will be empty until you train or evaluate the model.\n"
          ]
        },
        {
          "output_type": "stream",
          "name": "stdout",
          "text": [
            ">Saved: plot_000041.png and g_model & d_model\n",
            " ========== Epoch 42 ========== \n",
            "1/1 [==============================] - 0s 52ms/step\n",
            "Batch : 1, D Loss : 3.612 | G Loss : 17.433\n",
            "1/1 [==============================] - 0s 29ms/step\n",
            "Batch : 2, D Loss : 3.635 | G Loss : 17.225\n",
            "1/1 [==============================] - 0s 28ms/step\n",
            "Batch : 3, D Loss : 3.590 | G Loss : 17.483\n",
            "1/1 [==============================] - 0s 41ms/step\n",
            "Batch : 4, D Loss : 3.548 | G Loss : 16.803\n",
            "1/1 [==============================] - 0s 30ms/step\n",
            "Batch : 5, D Loss : 3.604 | G Loss : 17.225\n",
            "1/1 [==============================] - 0s 23ms/step\n"
          ]
        },
        {
          "output_type": "stream",
          "name": "stderr",
          "text": [
            "WARNING:tensorflow:Compiled the loaded model, but the compiled metrics have yet to be built. `model.compile_metrics` will be empty until you train or evaluate the model.\n"
          ]
        },
        {
          "output_type": "stream",
          "name": "stdout",
          "text": [
            ">Saved: plot_000042.png and g_model & d_model\n",
            " ========== Epoch 43 ========== \n",
            "1/1 [==============================] - 0s 31ms/step\n",
            "Batch : 1, D Loss : 3.650 | G Loss : 17.043\n",
            "1/1 [==============================] - 0s 35ms/step\n",
            "Batch : 2, D Loss : 3.589 | G Loss : 17.331\n",
            "1/1 [==============================] - 0s 32ms/step\n",
            "Batch : 3, D Loss : 3.598 | G Loss : 16.714\n",
            "1/1 [==============================] - 0s 61ms/step\n",
            "Batch : 4, D Loss : 3.551 | G Loss : 17.282\n",
            "1/1 [==============================] - 0s 47ms/step\n",
            "Batch : 5, D Loss : 3.577 | G Loss : 17.634\n",
            "1/1 [==============================] - 0s 21ms/step\n"
          ]
        },
        {
          "output_type": "stream",
          "name": "stderr",
          "text": [
            "WARNING:tensorflow:Compiled the loaded model, but the compiled metrics have yet to be built. `model.compile_metrics` will be empty until you train or evaluate the model.\n"
          ]
        },
        {
          "output_type": "stream",
          "name": "stdout",
          "text": [
            ">Saved: plot_000043.png and g_model & d_model\n",
            " ========== Epoch 44 ========== \n",
            "1/1 [==============================] - 0s 32ms/step\n",
            "Batch : 1, D Loss : 3.654 | G Loss : 16.924\n",
            "1/1 [==============================] - 0s 31ms/step\n",
            "Batch : 2, D Loss : 3.603 | G Loss : 17.115\n",
            "1/1 [==============================] - 0s 31ms/step\n",
            "Batch : 3, D Loss : 3.642 | G Loss : 17.081\n",
            "1/1 [==============================] - 0s 31ms/step\n",
            "Batch : 4, D Loss : 3.582 | G Loss : 16.445\n",
            "1/1 [==============================] - 0s 46ms/step\n",
            "Batch : 5, D Loss : 3.641 | G Loss : 17.139\n",
            "1/1 [==============================] - 0s 33ms/step\n"
          ]
        },
        {
          "output_type": "stream",
          "name": "stderr",
          "text": [
            "WARNING:tensorflow:Compiled the loaded model, but the compiled metrics have yet to be built. `model.compile_metrics` will be empty until you train or evaluate the model.\n"
          ]
        },
        {
          "output_type": "stream",
          "name": "stdout",
          "text": [
            ">Saved: plot_000044.png and g_model & d_model\n",
            " ========== Epoch 45 ========== \n",
            "1/1 [==============================] - 0s 40ms/step\n",
            "Batch : 1, D Loss : 3.614 | G Loss : 16.938\n",
            "1/1 [==============================] - 0s 30ms/step\n",
            "Batch : 2, D Loss : 3.603 | G Loss : 16.762\n",
            "1/1 [==============================] - 0s 31ms/step\n",
            "Batch : 3, D Loss : 3.585 | G Loss : 17.078\n",
            "1/1 [==============================] - 0s 31ms/step\n",
            "Batch : 4, D Loss : 3.556 | G Loss : 16.322\n",
            "1/1 [==============================] - 0s 30ms/step\n",
            "Batch : 5, D Loss : 3.597 | G Loss : 16.885\n",
            "1/1 [==============================] - 0s 24ms/step\n"
          ]
        },
        {
          "output_type": "stream",
          "name": "stderr",
          "text": [
            "WARNING:tensorflow:Compiled the loaded model, but the compiled metrics have yet to be built. `model.compile_metrics` will be empty until you train or evaluate the model.\n"
          ]
        },
        {
          "output_type": "stream",
          "name": "stdout",
          "text": [
            ">Saved: plot_000045.png and g_model & d_model\n",
            " ========== Epoch 46 ========== \n",
            "1/1 [==============================] - 0s 55ms/step\n",
            "Batch : 1, D Loss : 3.489 | G Loss : 16.940\n",
            "1/1 [==============================] - 0s 32ms/step\n",
            "Batch : 2, D Loss : 3.608 | G Loss : 17.119\n",
            "1/1 [==============================] - 0s 31ms/step\n",
            "Batch : 3, D Loss : 3.606 | G Loss : 16.697\n",
            "1/1 [==============================] - 0s 30ms/step\n",
            "Batch : 4, D Loss : 3.606 | G Loss : 16.547\n",
            "1/1 [==============================] - 0s 29ms/step\n",
            "Batch : 5, D Loss : 3.527 | G Loss : 16.605\n",
            "1/1 [==============================] - 0s 23ms/step\n"
          ]
        },
        {
          "output_type": "stream",
          "name": "stderr",
          "text": [
            "WARNING:tensorflow:Compiled the loaded model, but the compiled metrics have yet to be built. `model.compile_metrics` will be empty until you train or evaluate the model.\n"
          ]
        },
        {
          "output_type": "stream",
          "name": "stdout",
          "text": [
            ">Saved: plot_000046.png and g_model & d_model\n",
            " ========== Epoch 47 ========== \n",
            "1/1 [==============================] - 0s 32ms/step\n",
            "Batch : 1, D Loss : 3.627 | G Loss : 16.906\n",
            "1/1 [==============================] - 0s 35ms/step\n",
            "Batch : 2, D Loss : 3.617 | G Loss : 17.614\n",
            "1/1 [==============================] - 0s 49ms/step\n",
            "Batch : 3, D Loss : 3.612 | G Loss : 17.135\n",
            "1/1 [==============================] - 0s 31ms/step\n",
            "Batch : 4, D Loss : 3.540 | G Loss : 17.297\n",
            "1/1 [==============================] - 0s 31ms/step\n",
            "Batch : 5, D Loss : 3.647 | G Loss : 17.201\n",
            "1/1 [==============================] - 0s 21ms/step\n"
          ]
        },
        {
          "output_type": "stream",
          "name": "stderr",
          "text": [
            "WARNING:tensorflow:Compiled the loaded model, but the compiled metrics have yet to be built. `model.compile_metrics` will be empty until you train or evaluate the model.\n"
          ]
        },
        {
          "output_type": "stream",
          "name": "stdout",
          "text": [
            ">Saved: plot_000047.png and g_model & d_model\n",
            " ========== Epoch 48 ========== \n",
            "1/1 [==============================] - 0s 31ms/step\n",
            "Batch : 1, D Loss : 3.602 | G Loss : 16.856\n",
            "1/1 [==============================] - 0s 28ms/step\n",
            "Batch : 2, D Loss : 3.605 | G Loss : 16.593\n",
            "1/1 [==============================] - 0s 52ms/step\n",
            "Batch : 3, D Loss : 3.588 | G Loss : 16.667\n",
            "1/1 [==============================] - 0s 31ms/step\n",
            "Batch : 4, D Loss : 3.623 | G Loss : 16.775\n",
            "1/1 [==============================] - 0s 32ms/step\n",
            "Batch : 5, D Loss : 3.622 | G Loss : 17.483\n",
            "1/1 [==============================] - 0s 24ms/step\n"
          ]
        },
        {
          "output_type": "stream",
          "name": "stderr",
          "text": [
            "WARNING:tensorflow:Compiled the loaded model, but the compiled metrics have yet to be built. `model.compile_metrics` will be empty until you train or evaluate the model.\n"
          ]
        },
        {
          "output_type": "stream",
          "name": "stdout",
          "text": [
            ">Saved: plot_000048.png and g_model & d_model\n",
            " ========== Epoch 49 ========== \n",
            "1/1 [==============================] - 0s 40ms/step\n",
            "Batch : 1, D Loss : 3.588 | G Loss : 18.474\n",
            "1/1 [==============================] - 0s 32ms/step\n",
            "Batch : 2, D Loss : 3.504 | G Loss : 16.366\n",
            "1/1 [==============================] - 0s 28ms/step\n",
            "Batch : 3, D Loss : 3.645 | G Loss : 16.683\n",
            "1/1 [==============================] - 0s 35ms/step\n",
            "Batch : 4, D Loss : 3.606 | G Loss : 16.979\n",
            "1/1 [==============================] - 0s 50ms/step\n",
            "Batch : 5, D Loss : 3.551 | G Loss : 16.647\n",
            "1/1 [==============================] - 0s 22ms/step\n"
          ]
        },
        {
          "output_type": "stream",
          "name": "stderr",
          "text": [
            "WARNING:tensorflow:Compiled the loaded model, but the compiled metrics have yet to be built. `model.compile_metrics` will be empty until you train or evaluate the model.\n"
          ]
        },
        {
          "output_type": "stream",
          "name": "stdout",
          "text": [
            ">Saved: plot_000049.png and g_model & d_model\n",
            " ========== Epoch 50 ========== \n",
            "1/1 [==============================] - 0s 33ms/step\n",
            "Batch : 1, D Loss : 3.622 | G Loss : 16.719\n",
            "1/1 [==============================] - 0s 33ms/step\n",
            "Batch : 2, D Loss : 3.607 | G Loss : 16.481\n",
            "1/1 [==============================] - 0s 32ms/step\n",
            "Batch : 3, D Loss : 3.578 | G Loss : 16.480\n",
            "1/1 [==============================] - 0s 64ms/step\n",
            "Batch : 4, D Loss : 3.620 | G Loss : 16.734\n",
            "1/1 [==============================] - 0s 30ms/step\n",
            "Batch : 5, D Loss : 3.645 | G Loss : 16.485\n",
            "1/1 [==============================] - 0s 25ms/step\n"
          ]
        },
        {
          "output_type": "stream",
          "name": "stderr",
          "text": [
            "WARNING:tensorflow:Compiled the loaded model, but the compiled metrics have yet to be built. `model.compile_metrics` will be empty until you train or evaluate the model.\n"
          ]
        },
        {
          "output_type": "stream",
          "name": "stdout",
          "text": [
            ">Saved: plot_000050.png and g_model & d_model\n"
          ]
        }
      ],
      "source": [
        "train(d_model, g_model, gan_model, [blue_sketch, blue_photo], '/content/drive/MyDrive/Project/Models/Pixel[50]_Context[08]/', n_epochs = 50, n_batch=16)"
      ]
    },
    {
      "cell_type": "code",
      "execution_count": null,
      "metadata": {
        "id": "1u38c9RYrrqj",
        "colab": {
          "base_uri": "https://localhost:8080/",
          "height": 472
        },
        "outputId": "53062ccc-7f7a-4c5c-9663-323bb62d6b1c"
      },
      "outputs": [
        {
          "output_type": "display_data",
          "data": {
            "text/plain": [
              "<Figure size 640x480 with 1 Axes>"
            ],
            "image/png": "[encoded data removed]"
          },
          "metadata": {}
        }
      ],
      "source": [
        "# Plot the loss values\n",
        "plt.plot(generator_losses, label='Generator Loss')\n",
        "plt.plot(discriminator_losses, label='Discriminator Loss')\n",
        "plt.title('GAN Training Loss')\n",
        "plt.xlabel('Iteration')\n",
        "plt.ylabel('Loss')\n",
        "plt.legend()\n",
        "plt.show()"
      ]
    }
  ],
  "metadata": {
    "accelerator": "GPU",
    "colab": {
      "provenance": [],
      "gpuType": "T4"
    },
    "kernelspec": {
      "display_name": "Python 3",
      "name": "python3"
    },
    "language_info": {
      "codemirror_mode": {
        "name": "ipython",
        "version": 3
      },
      "file_extension": ".py",
      "mimetype": "text/x-python",
      "name": "python",
      "nbconvert_exporter": "python",
      "pygments_lexer": "ipython3",
      "version": "3.9.6"
    }
  },
  "nbformat": 4,
  "nbformat_minor": 0
}